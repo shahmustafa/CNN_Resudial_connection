{
 "cells": [
  {
   "cell_type": "markdown",
   "id": "quick-genetics",
   "metadata": {},
   "source": [
    "# Merges two dictionaries"
   ]
  },
  {
   "cell_type": "code",
   "execution_count": 6,
   "id": "honey-candle",
   "metadata": {},
   "outputs": [],
   "source": [
    "def merge_dicts(d1,d2):\n",
    "    for key,v in d2.items():\n",
    "        if key in d1.keys():\n",
    "            d1[key]=[d1[key],v]\n",
    "        else:\n",
    "             d1[key]=v\n",
    "    return d1\n",
    "\n"
   ]
  },
  {
   "cell_type": "markdown",
   "id": "honest-coupon",
   "metadata": {},
   "source": [
    "## Test case 1:"
   ]
  },
  {
   "cell_type": "code",
   "execution_count": 7,
   "id": "filled-lease",
   "metadata": {},
   "outputs": [],
   "source": [
    "d1 = {1:2, 3:4, 5:6}\n",
    "\n",
    "d2 = {7:8, 9:10, 11:12}\n",
    "\n",
    "#EXPECTED RESULT = {1:2, 3:4, 5:6, 7:8, 9:10, 11:12}"
   ]
  },
  {
   "cell_type": "markdown",
   "id": "prostate-right",
   "metadata": {},
   "source": [
    "### Output"
   ]
  },
  {
   "cell_type": "code",
   "execution_count": 8,
   "id": "alike-fifteen",
   "metadata": {},
   "outputs": [
    {
     "data": {
      "text/plain": [
       "{1: 2, 3: 4, 5: 6, 7: 8, 9: 10, 11: 12}"
      ]
     },
     "execution_count": 8,
     "metadata": {},
     "output_type": "execute_result"
    }
   ],
   "source": [
    "merge_dicts(d1,d2)"
   ]
  },
  {
   "cell_type": "markdown",
   "id": "occupied-deployment",
   "metadata": {},
   "source": [
    "## Test case 2:"
   ]
  },
  {
   "cell_type": "code",
   "execution_count": 9,
   "id": "interested-lingerie",
   "metadata": {},
   "outputs": [],
   "source": [
    "d1 = {1:'a', 2:'b', 'c':3, 'd':None}\n",
    "\n",
    "d2 = {'c':4, 'k':9, 'd':12}\n",
    "\n",
    "#EXPECTED RESULT = {1'a', 2:'b', 'c':[4, 3], 'd':[None, 12], 'k':9}"
   ]
  },
  {
   "cell_type": "markdown",
   "id": "coastal-tokyo",
   "metadata": {},
   "source": [
    "### Output"
   ]
  },
  {
   "cell_type": "code",
   "execution_count": 10,
   "id": "entire-shame",
   "metadata": {},
   "outputs": [
    {
     "data": {
      "text/plain": [
       "{1: 'a', 2: 'b', 'c': [3, 4], 'd': [None, 12], 'k': 9}"
      ]
     },
     "execution_count": 10,
     "metadata": {},
     "output_type": "execute_result"
    }
   ],
   "source": [
    "merge_dicts(d1,d2)"
   ]
  },
  {
   "cell_type": "markdown",
   "id": "perceived-internship",
   "metadata": {},
   "source": [
    "## Test case 3:"
   ]
  },
  {
   "cell_type": "code",
   "execution_count": 11,
   "id": "pregnant-aruba",
   "metadata": {},
   "outputs": [],
   "source": [
    "d1 = {1:'a', 2:['b', 1, 2, 10], 'c': {'k':'v'}}\n",
    "\n",
    "d2 = {'c':4, 'k':9, 2:12}\n",
    "\n",
    "#EXPECTED RESULT = {1:'a', 2:[12, ['b', 1, 2, 10]], 'c':[{'k':'v'},4], 'k':9}"
   ]
  },
  {
   "cell_type": "markdown",
   "id": "latin-billion",
   "metadata": {},
   "source": [
    "### Output "
   ]
  },
  {
   "cell_type": "code",
   "execution_count": 13,
   "id": "revised-heating",
   "metadata": {},
   "outputs": [
    {
     "data": {
      "text/plain": [
       "{1: 'a', 2: [['b', 1, 2, 10], 12], 'c': [{'k': 'v'}, 4], 'k': 9}"
      ]
     },
     "execution_count": 13,
     "metadata": {},
     "output_type": "execute_result"
    }
   ],
   "source": [
    "merge_dicts(d1,d2)"
   ]
  },
  {
   "cell_type": "code",
   "execution_count": null,
   "id": "corresponding-arnold",
   "metadata": {},
   "outputs": [],
   "source": []
  }
 ],
 "metadata": {
  "kernelspec": {
   "display_name": "Python 3",
   "language": "python",
   "name": "python3"
  },
  "language_info": {
   "codemirror_mode": {
    "name": "ipython",
    "version": 3
   },
   "file_extension": ".py",
   "mimetype": "text/x-python",
   "name": "python",
   "nbconvert_exporter": "python",
   "pygments_lexer": "ipython3",
   "version": "3.5.10"
  }
 },
 "nbformat": 4,
 "nbformat_minor": 5
}
